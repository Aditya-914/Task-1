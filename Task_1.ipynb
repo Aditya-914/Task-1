{
  "nbformat": 4,
  "nbformat_minor": 0,
  "metadata": {
    "colab": {
      "provenance": []
    },
    "kernelspec": {
      "name": "python3",
      "display_name": "Python 3"
    },
    "language_info": {
      "name": "python"
    }
  },
  "cells": [
    {
      "cell_type": "code",
      "execution_count": 2,
      "metadata": {
        "colab": {
          "base_uri": "https://localhost:8080/"
        },
        "id": "TQbTgBYASsQU",
        "outputId": "b827decf-f37f-4ccf-a772-e6f316dd4e43"
      },
      "outputs": [
        {
          "output_type": "stream",
          "name": "stdout",
          "text": [
            "a + b =  30\n",
            "a - b =  -10\n",
            "a * b =  200\n",
            "a / b =  0.5\n"
          ]
        }
      ],
      "source": [
        "a = 10\n",
        "b = 20\n",
        "c = a + b\n",
        "print(\"a + b = \",c)\n",
        "c = a - b\n",
        "print(\"a - b = \",c)\n",
        "c = a * b\n",
        "print(\"a * b = \",c)\n",
        "c = a / b\n",
        "print(\"a / b = \",c)"
      ]
    },
    {
      "cell_type": "code",
      "source": [
        "# Basic string manipulations\n",
        "\n",
        "# Define strings\n",
        "str1 = \"Hello\"\n",
        "str2 = \"World\"\n",
        "\n",
        "# Concatenate the strings\n",
        "str3 = str1 + \" \" + str2\n",
        "print(\"Concatenated string:\", str3)\n",
        "\n",
        "# Repeat a string\n",
        "str4 = str1 * 3\n",
        "print(\"Repeated string:\", str4)\n",
        "\n",
        "# Access a character by index\n",
        "print(\"Character at index 1:\", str1[1])\n",
        "\n",
        "# Slice a substring\n",
        "print(\"Substring from index 1 to 3:\", str1[1:3])\n",
        "\n",
        "# Find the length of a string\n",
        "print(\"Length of string:\", len(str1))\n",
        "\n",
        "# Convert a string to uppercase\n",
        "print(\"Uppercase string:\", str1.upper())\n",
        "\n",
        "# Convert a string to lowercase\n",
        "print(\"Lowercase string:\", str1.lower())\n",
        "\n",
        "# Remove whitespace from both sides of a string\n",
        "str5 = \"   Hello World   \"\n",
        "print(\"String with whitespace:\", str5)\n",
        "print(\"String without whitespace:\", str5.strip())\n",
        "\n",
        "# Replace a substring\n",
        "print(\"Replaced String:\", str1.replace(\"Hello\", \"Goodbye\"))\n"
      ],
      "metadata": {
        "colab": {
          "base_uri": "https://localhost:8080/"
        },
        "id": "h6-Mb1FBU48n",
        "outputId": "6ef7f708-ad57-40cd-9d5b-3b41f6df296b"
      },
      "execution_count": 6,
      "outputs": [
        {
          "output_type": "stream",
          "name": "stdout",
          "text": [
            "Concatenated string: Hello World\n",
            "Repeated string: HelloHelloHello\n",
            "Character at index 1: e\n",
            "Substring from index 1 to 3: el\n",
            "Length of string: 5\n",
            "Uppercase string: HELLO\n",
            "Lowercase string: hello\n",
            "String with whitespace:    Hello World   \n",
            "String without whitespace: Hello World\n",
            "String with replaced substring: Goodbye\n"
          ]
        }
      ]
    },
    {
      "cell_type": "code",
      "source": [
        "# Basic conditional statements\n",
        "\n",
        "x = 10\n",
        "y = 5\n",
        "\n",
        "if x > y:\n",
        "  print(\"x is greater than y\")\n",
        "elif x < y:\n",
        "  print(\"x is less than y\")\n",
        "else:\n",
        "  print(\"x is equal to y\")\n",
        "\n",
        "# Code 2\n",
        "\n",
        "age = 18\n",
        "\n",
        "if age >= 18:\n",
        "  print(\"You are an adult\")\n",
        "else:\n",
        "  print(\"You are a minor\")\n"
      ],
      "metadata": {
        "colab": {
          "base_uri": "https://localhost:8080/"
        },
        "id": "fcNd97cQU5q-",
        "outputId": "219c1f25-c8ff-4e06-cfcd-926794092651"
      },
      "execution_count": 7,
      "outputs": [
        {
          "output_type": "stream",
          "name": "stdout",
          "text": [
            "x is greater than y\n",
            "You are an adult\n"
          ]
        }
      ]
    },
    {
      "cell_type": "code",
      "source": [
        "#creating list\n",
        "List = [1, 2, 4, 'For', 6]\n",
        "\n",
        "#adding element\n",
        "List.append(5)\n",
        "\n",
        "#removing element\n",
        "List.remove('For')\n",
        "\n",
        "#modifying list\n",
        "List[1] = 9\n",
        "\n",
        "print(\"Updated list:\",List)"
      ],
      "metadata": {
        "colab": {
          "base_uri": "https://localhost:8080/"
        },
        "id": "CpRKRzPiU5zA",
        "outputId": "55830411-9ef3-43db-ce39-557cbc99f587"
      },
      "execution_count": 3,
      "outputs": [
        {
          "output_type": "stream",
          "name": "stdout",
          "text": [
            "Updated list: [1, 9, 4, 6, 5]\n"
          ]
        }
      ]
    },
    {
      "cell_type": "code",
      "source": [
        "#creating set\n",
        "Set = {1, 2, 3, 4, 7, 6}\n",
        "\n",
        "#adding element\n",
        "Set.add(5)\n",
        "\n",
        "#removing element\n",
        "Set.remove(7)\n",
        "\n",
        "#modifying\n",
        "Set.discard(1)\n",
        "\n",
        "print(\"Updated set:\",Set)"
      ],
      "metadata": {
        "colab": {
          "base_uri": "https://localhost:8080/"
        },
        "id": "neA_4AmuU58G",
        "outputId": "1b723b66-c279-43e0-ab93-122aef399221"
      },
      "execution_count": 4,
      "outputs": [
        {
          "output_type": "stream",
          "name": "stdout",
          "text": [
            "Updated set: {2, 3, 4, 5, 6}\n"
          ]
        }
      ]
    },
    {
      "cell_type": "code",
      "source": [
        "#creating dictionary\n",
        "Dict = {\n",
        "\"brand\": \"Honda\",\n",
        "\"model\": \"City\",\n",
        "\"year\": 2018\n",
        "}\n",
        "\n",
        "#adding element\n",
        "Dict['price'] = 'Rs.20,00,000'\n",
        "\n",
        "#removing element\n",
        "del Dict['brand']\n",
        "\n",
        "#modifying\n",
        "Dict['model'] = 'Civic'\n",
        "\n",
        "print(\"Updated set:\",Dict)"
      ],
      "metadata": {
        "colab": {
          "base_uri": "https://localhost:8080/"
        },
        "id": "khiLPBDwU6UU",
        "outputId": "a348d237-7e6b-416c-cc2c-b6a566ea0cd2"
      },
      "execution_count": 5,
      "outputs": [
        {
          "output_type": "stream",
          "name": "stdout",
          "text": [
            "Updated set: {'model': 'Civic', 'year': 2018, 'price': 'Rs.20,00,000'}\n"
          ]
        }
      ]
    }
  ]
}